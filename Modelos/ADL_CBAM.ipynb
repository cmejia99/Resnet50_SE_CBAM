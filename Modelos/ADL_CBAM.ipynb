{
  "nbformat": 4,
  "nbformat_minor": 0,
  "metadata": {
    "colab": {
      "name": "ADL_CBAM.ipynb",
      "provenance": []
    },
    "kernelspec": {
      "name": "python3",
      "display_name": "Python 3"
    },
    "language_info": {
      "name": "python"
    }
  },
  "cells": [
    {
      "cell_type": "code",
      "metadata": {
        "id": "G5k6hr6tWrE-"
      },
      "source": [
        "#@title **Librerías Utilizadas**:\n",
        "\n",
        "import tensorflow.keras as keras\n",
        "from keras.models import Sequential\n",
        "from keras.utils import np_utils\n",
        "from keras.preprocessing.image import ImageDataGenerator\n",
        "from keras.layers import Dense, Activation, Flatten, Dropout, BatchNormalization\n",
        "from keras.layers import Conv2D, MaxPooling2D, AveragePooling2D, GlobalAveragePooling2D\n",
        "from keras.datasets import cifar10\n",
        "from keras import regularizers, optimizers\n",
        "import numpy as np\n",
        "import matplotlib.pyplot as plt\n",
        "from keras.layers import Add\n",
        "from keras.layers import Input\n",
        "from keras.models import Model \n",
        "from keras.layers import Reshape\n",
        "from keras.layers import multiply\n",
        "from google.colab import drive\n",
        "from tensorflow.keras.regularizers import l2\n",
        "\n",
        "from keras import backend as K\n",
        "from keras.utils.vis_utils import plot_model\n",
        "from keras.preprocessing.image import array_to_img\n",
        "import tensorflow as tf\n",
        "import cv2\n",
        "from IPython.display import Image, display\n",
        "import matplotlib.cm as cm\n",
        "from keras.applications.imagenet_utils import preprocess_input"
      ],
      "execution_count": 13,
      "outputs": []
    },
    {
      "cell_type": "code",
      "metadata": {
        "id": "3JUDQmbEYJ3C"
      },
      "source": [
        "#@title **Building the Channel Attention Module:**\n",
        "\n",
        "def ch_attention(input_t, ratio=8):\n",
        "  inputs = input_t\n",
        "  channel_axis = 1 if K.image_data_format() == 'channel_first' else -1\n",
        "  filters = inputs.shape[channel_axis]\n",
        "\n",
        "  # Define shared MLP\n",
        "  # Double // to obtain an int after division\n",
        "  MLP_Layer_S1 = Dense(filters//ratio, activation='relu',kernel_initializer='he_normal', use_bias=True, bias_initializer='zeros')# W0\n",
        "  MLP_Layer_S2 = Dense(filters, activation='relu',kernel_initializer='he_normal', use_bias=True, bias_initializer='zeros')# W1\n",
        "\n",
        "  # Average-pooled features\n",
        "  avg_pool = GlobalAveragePooling2D()(inputs)\n",
        "  avg_pool = Reshape((1,1,filters))(avg_pool)\n",
        "  avg_pool = MLP_Layer_S1(avg_pool)\n",
        "  avg_pool = MLP_Layer_S2(avg_pool)\n",
        "\n",
        "  # Max-pooled features\n",
        "  max_pool = MaxPooling2D()(inputs)\n",
        "  max_pool = Reshape((1,1,filters))(max_pool)\n",
        "  max_pool = MLP_Layer_S1(max_pool)\n",
        "  max_pool = MLP_Layer_S2(max_pool)\n",
        "\n",
        "  # Element-wise summation of two last vectors and sigmoid act function\n",
        "  cbam_feat_ch = Add()([avg_pool, max_pool])\n",
        "  cbam_feat_ch = Activation('sigmoid')(cbam_feat_ch)\n",
        "  cbam_feat_ch = Multiply([inputs,cbam_feat_ch])\n",
        "  return cbam_feat_ch"
      ],
      "execution_count": 2,
      "outputs": []
    },
    {
      "cell_type": "code",
      "metadata": {
        "id": "3dEczgcKZncz"
      },
      "source": [
        "#@title **Building the Spatial Attention Module:**\n",
        "\n",
        "def sp_attention(input_t, kernel_size=7):\n",
        "  inputs = input_t\n",
        "  avg_pool = Lambda(lambda x: K.mean(x, axis=3, keepdims=True))(inputs)#se hace para cada canal por separado axis=0\n",
        "  #axis=3 solo para los canales\n",
        "  max_pool = Lambda(lambda x: K.max(x, axis=3, keepdims=True))(inputs)\n",
        "  concat = Concatenate(axis=-1)([avg_pool, max_pool])\n",
        "  cbam_feat_sp = Conv2D(filters=1, kernel_size=kernel_size, strides=1, padding='same', activation='sigmoid', kernel_initializer='he_normal', use_bias=False)(concat)\n",
        "  cbam_feat_sp = Multiply([inputs,cbam_feat_sp])\n",
        "  return cbam_feat_sp"
      ],
      "execution_count": 3,
      "outputs": []
    },
    {
      "cell_type": "code",
      "metadata": {
        "id": "FDWPfV60jlSP"
      },
      "source": [
        "#@title **Complete CBAM:**\n",
        "\n",
        "def cbam_block(input_t):\n",
        "  init = input_t\n",
        "  cbam_feat_ch = ch_attention(init)\n",
        "  cbam_feat_sp = sp_attention(cbam_feat_ch)\n",
        "  return cbam_feat"
      ],
      "execution_count": 4,
      "outputs": []
    },
    {
      "cell_type": "code",
      "metadata": {
        "id": "ffpBUDQKkwuh"
      },
      "source": [
        "#@title **Bloque inicial:**\n",
        "# Dada la baja resolucion de las img cifar10, vamos a utilizar stride 1\n",
        "# En lugar de 2 como es sugerido en la resnet original\n",
        "\n",
        "def initial_conv(Input, filters, stride=1, kz=7):\n",
        "  x = Conv2D(filters, kernel_size=(kz,kz), strides=(stride,stride),\n",
        "             padding='same', use_bias=False, kernel_initializer='he_normal',\n",
        "             kernel_regularizer=l2(1e-4))(Input)\n",
        "\n",
        "  x = BatchNormalization()(x)\n",
        "  x = Activation('relu')(x)\n",
        "  return x"
      ],
      "execution_count": 5,
      "outputs": []
    },
    {
      "cell_type": "code",
      "metadata": {
        "id": "bIy9uiVPlH4D"
      },
      "source": [
        "#@title **bottleneck residual block:**\n",
        "# Conv Block es un bottleneck residual block. Empieza con una convolucion de 1*1\n",
        "# que reduce el depth, seguido por una de 3x3 y la ultima de 1*1 usada para\n",
        "# restaurar la depth\n",
        "\n",
        "def conv_block(Input, filters, se, stride=1):\n",
        "  \n",
        "  # Bloque para contraer a 1*1\n",
        "  x = Conv2D(filters, kernel_size=(1,1), strides=(stride, stride), padding='same',kernel_initializer='he_normal',\n",
        "                      use_bias=False)(Input)\n",
        "  x = BatchNormalization()(x)\n",
        "  x = Activation('relu')(x)\n",
        "\n",
        "  # Bloque para preservar  3*3 convol.\n",
        "  x = Conv2D(filters,kernel_size=(3,3),strides=(stride,stride),padding='same',kernel_initializer='he_normal',\n",
        "                      use_bias=False)(x)\n",
        "  x = BatchNormalization()(x)\n",
        "  x = Activation('relu')(x)\n",
        "\n",
        "  # Bloque para expandir a 1*1\n",
        "  x = Conv2D(filters*4, kernel_size=(1,1), strides=(stride, stride), padding='same',kernel_initializer='he_normal',\n",
        "                      use_bias=False)(x)\n",
        "  x = BatchNormalization()(x)\n",
        "  #x = Activation('relu')(x)\n",
        "\n",
        "  # Bloque de proyeccion\n",
        "  skip_conv = Conv2D(filters*4, kernel_size=(1,1), strides=(stride,stride), padding='same',kernel_initializer='he_normal',\n",
        "                      use_bias=False)(Input)\n",
        "  skip = BatchNormalization()(skip_conv)\n",
        "\n",
        "  # Bloque squeeze and excite\n",
        "  if se==True:\n",
        "    x = squeeze_excite_block(x)\n",
        "\n",
        "  # Sumar los dos bloques\n",
        "  x = Add()([x,skip])\n",
        "\n",
        "  return x"
      ],
      "execution_count": 6,
      "outputs": []
    },
    {
      "cell_type": "code",
      "metadata": {
        "id": "5mH9uIHClLBs"
      },
      "source": [
        "#@title **Bloque identidad:**\n",
        "\n",
        "def ident_block(Input, filters, se, stride = 1):\n",
        "\n",
        "  # x = BatchNormalization()(Input)\n",
        "  # x = Activation('relu')(x)\n",
        "  # Bloque para contraer a 1*1\n",
        "  x = Conv2D(filters, kernel_size=(1,1), strides=(stride, stride), padding='same',kernel_initializer='he_normal',\n",
        "                      use_bias=False)(Input)\n",
        "  x = BatchNormalization()(x)\n",
        "  x = Activation('relu')(x)\n",
        "\n",
        "  # Bloque para preservar  3*3 convol.\n",
        "  x = Conv2D(filters,kernel_size=(3,3),strides=(stride,stride),padding='same',kernel_initializer='he_normal',\n",
        "                      use_bias=False)(x)\n",
        "  x = BatchNormalization()(x)\n",
        "  x = Activation('relu')(x)\n",
        "\n",
        "  # Bloque para expandir a 1*1\n",
        "  x = Conv2D(filters*4, kernel_size=(1,1), strides=(stride, stride), padding='same', kernel_initializer='he_normal',\n",
        "                      use_bias=False)(x)\n",
        "  x = BatchNormalization()(x)\n",
        "  #x = Activation('relu')(x)\n",
        "\n",
        "  # Bloque squeeze and excite\n",
        "  #if se==True:\n",
        "   # x = squeeze_excite_block(x)\n",
        "\n",
        "  # Bloque identidad sumado\n",
        "  x = Add()([x,Input])\n",
        "\n",
        "  return x"
      ],
      "execution_count": 7,
      "outputs": []
    },
    {
      "cell_type": "code",
      "metadata": {
        "id": "BnmFacVflS7e"
      },
      "source": [
        "#@title **Crear la resNet 50:**\n",
        "\n",
        "def build_resnet50(h,w, n_outputs,r1, r2, r3,r4, se, first_conv_stride=2, first_conv_kernel_size=7):\n",
        "  # Crear el tensor de entrada\n",
        "  inputs = Input(shape = (h,w,3), name = 'image_input')\n",
        "\n",
        "  # Bloque inicial\n",
        "  x = initial_conv(inputs,64,first_conv_stride,first_conv_kernel_size)\n",
        "  x = MaxPooling2D(pool_size=(3, 3),strides=(2,2), padding='same')(x)\n",
        "  #x = MaxPooling2D(pool_size=(2,2))(x)\n",
        "  \n",
        "  # Bloque de convolucion 1\n",
        "  #if se==True:\n",
        "  #  x = conv_block(x,64,True,1)  \n",
        "  #else:\n",
        "  x = conv_block(x,64,False,1)\n",
        "  x = Activation('relu')(x)\n",
        "  \n",
        "  # Repitiendo el bloque identidad\n",
        "  for i in range(r1-1):\n",
        "    if se==True:\n",
        "      x = ident_block(x,64, True)\n",
        "    else:\n",
        "      x = ident_block(x,64, False)\n",
        "    x = Activation('relu')(x)\n",
        "  \n",
        "  # Bloque de convolucion 2\n",
        "  #if se==True:\n",
        "  #  x = conv_block(x,128,True, 2)  \n",
        "  #else:\n",
        "  x = conv_block(x,128,False,1)\n",
        "  x = Activation('relu')(x)\n",
        "  \n",
        "  # Repitiendo el bloque identidad\n",
        "  for i in range(r2-1):\n",
        "    if se==True:\n",
        "      x = ident_block(x,128, True)\n",
        "    else:\n",
        "      x = ident_block(x,128, False)\n",
        "    x = Activation('relu')(x)\n",
        "    \n",
        "  # Bloque de convolucion 3\n",
        "  #if se==True:\n",
        "  #  x = conv_block(x,256,True,2)   \n",
        "  #else:\n",
        "  x = conv_block(x,256,False,1)\n",
        "  x = Activation('relu')(x)\n",
        "  \n",
        "  # Repitiendo el bloque identidad\n",
        "  for i in range(r3-1):\n",
        "    if se==True:\n",
        "      x = ident_block(x,256, True)\n",
        "    else:\n",
        "      x = ident_block(x,256, False)\n",
        "    x = Activation('relu')(x)\n",
        "    \n",
        "  # Bloque de convolucion 4\n",
        "  #if se==True:\n",
        "  #  x = conv_block(x,512,True,2)  \n",
        "  #else:\n",
        "  x = conv_block(x,512,False,1)\n",
        "  x = Activation('relu')(x)\n",
        "  \n",
        "  # Repitiendo el bloque identidad\n",
        "  for i in range(r4-1):\n",
        "    if se==True:\n",
        "      x = ident_block(x,512, True)\n",
        "    else:\n",
        "      x = ident_block(x,512, False)\n",
        "    x = Activation('relu')(x)\n",
        "  \n",
        "  #x = BatchNormalization()(x)\n",
        "  #x = Activation('relu')(x)\n",
        "  shape = K.int_shape(x)\n",
        "\n",
        "  x = AveragePooling2D(pool_size=([shape[1],shape[2]]), strides=(1,1))(x)\n",
        "\n",
        "  x = Flatten()(x)\n",
        "  x = Dense(n_outputs, activation = 'softmax')(x)\n",
        "\n",
        "  model = Model(inputs = inputs, outputs = x)\n",
        "  return model"
      ],
      "execution_count": 8,
      "outputs": []
    },
    {
      "cell_type": "code",
      "metadata": {
        "id": "Wjvz0stmmW3S"
      },
      "source": [
        "#@title **Crea el model_cbam:**\n",
        "\n",
        "model_cbam = build_resnet50(32,32,10,3,4,6,3,True,1,7)"
      ],
      "execution_count": 9,
      "outputs": []
    },
    {
      "cell_type": "code",
      "metadata": {
        "colab": {
          "base_uri": "https://localhost:8080/"
        },
        "id": "KlWHEHJov-QG",
        "outputId": "30833620-a0d9-471a-9713-89a39b74c6a4"
      },
      "source": [
        "#@title **Cargar Variables del Dataset:**\n",
        "\n",
        "(x_train, y_train), (x_test, y_test)=cifar10.load_data()"
      ],
      "execution_count": 10,
      "outputs": [
        {
          "output_type": "stream",
          "name": "stdout",
          "text": [
            "Downloading data from https://www.cs.toronto.edu/~kriz/cifar-10-python.tar.gz\n",
            "170500096/170498071 [==============================] - 4s 0us/step\n",
            "170508288/170498071 [==============================] - 4s 0us/step\n"
          ]
        }
      ]
    },
    {
      "cell_type": "code",
      "metadata": {
        "id": "G5plmbN1wf6R",
        "colab": {
          "base_uri": "https://localhost:8080/",
          "height": 268
        },
        "outputId": "fe1bc2b8-2436-424f-d935-8f9eca16f2f8"
      },
      "source": [
        "#@title **Visualizar los archivos:**\n",
        "\n",
        "for i in range(0,9):\n",
        "  plt.subplot(3,3,i+1)\n",
        "  plt.imshow(array_to_img(x_train[i]))\n",
        "plt.show()"
      ],
      "execution_count": 14,
      "outputs": [
        {
          "output_type": "display_data",
          "data": {
            "image/png": "[encoded data removed]",
            "text/plain": [
              "<Figure size 432x288 with 9 Axes>"
            ]
          },
          "metadata": {
            "needs_background": "light"
          }
        }
      ]
    },
    {
      "cell_type": "code",
      "metadata": {
        "id": "qfsIB68Iwg9o"
      },
      "source": [
        "#@title **Cambiar el tipo de dato a flotante, Normalización:**\n",
        "\n",
        "x_train = x_train.astype('float32') / 255\n",
        "x_test = x_test.astype('float32') / 255\n",
        "\n",
        "mean =np.mean(x_train, axis=(0,1,2,3))\n",
        "std = np.std(x_train, axis=(0,1,2,3))\n",
        "\n",
        "x_train = (x_train-mean)/(std + 1e-7)\n",
        "x_test = (x_test-mean)/(std + 1e-7)"
      ],
      "execution_count": 15,
      "outputs": []
    },
    {
      "cell_type": "code",
      "metadata": {
        "id": "7spZX5tlwkyi"
      },
      "source": [
        "#@title **One hot encoding:**\n",
        "\n",
        "num_classes = 10\n",
        "y_train = np_utils.to_categorical(y_train, num_classes)\n",
        "y_test = np_utils.to_categorical(y_test, num_classes)"
      ],
      "execution_count": 16,
      "outputs": []
    },
    {
      "cell_type": "code",
      "metadata": {
        "colab": {
          "base_uri": "https://localhost:8080/",
          "height": 425
        },
        "id": "4jrGj0SevQGQ",
        "outputId": "8b0bcfe7-7886-47b4-9379-917ee4e443d6"
      },
      "source": [
        "#@title **Entrenamiento:**\n",
        "\n",
        "adam = keras.optimizers.Adam(learning_rate=0.001, beta_1=0.9, beta_2=0.999,\n",
        "                            epsilon=None, decay=1e-6, amsgrad=False)\n",
        "\n",
        "model_cbam.compile(loss='categorical_crossentropy', optimizer = adam, metrics = ['accuracy'])\n",
        "batch_size = 64\n",
        "epochs = 10\n",
        "history3 = model_cbam.fit(x_train, y_train, batch_size=batch_size, epochs=epochs, \n",
        "                         validation_data=(x_test, y_test), verbose=1)\n",
        "\n",
        "model_cbam.save(\"modelcbam.h5\")\n",
        "model_cbam.save_weights(\"modelcbamEwght.h5\")\n",
        "print(\"Modelo guardado en el PC\")"
      ],
      "execution_count": 18,
      "outputs": [
        {
          "output_type": "stream",
          "name": "stdout",
          "text": [
            "Epoch 1/10\n",
            " 44/782 [>.............................] - ETA: 11:26:45 - loss: 2.1734 - accuracy: 0.2578"
          ]
        },
        {
          "output_type": "error",
          "ename": "KeyboardInterrupt",
          "evalue": "ignored",
          "traceback": [
            "\u001b[0;31m---------------------------------------------------------------------------\u001b[0m",
            "\u001b[0;31mKeyboardInterrupt\u001b[0m                         Traceback (most recent call last)",
            "\u001b[0;32m<ipython-input-18-856da4a2faf0>\u001b[0m in \u001b[0;36m<module>\u001b[0;34m()\u001b[0m\n\u001b[1;32m      8\u001b[0m \u001b[0mepochs\u001b[0m \u001b[0;34m=\u001b[0m \u001b[0;36m10\u001b[0m\u001b[0;34m\u001b[0m\u001b[0;34m\u001b[0m\u001b[0m\n\u001b[1;32m      9\u001b[0m history3 = model_cbam.fit(x_train, y_train, batch_size=batch_size, epochs=epochs, \n\u001b[0;32m---> 10\u001b[0;31m                          validation_data=(x_test, y_test), verbose=1)\n\u001b[0m\u001b[1;32m     11\u001b[0m \u001b[0;34m\u001b[0m\u001b[0m\n\u001b[1;32m     12\u001b[0m \u001b[0mmodel_cbam\u001b[0m\u001b[0;34m.\u001b[0m\u001b[0msave\u001b[0m\u001b[0;34m(\u001b[0m\u001b[0;34m\"modelcbam.h5\"\u001b[0m\u001b[0;34m)\u001b[0m\u001b[0;34m\u001b[0m\u001b[0;34m\u001b[0m\u001b[0m\n",
            "\u001b[0;32m/usr/local/lib/python3.7/dist-packages/keras/utils/traceback_utils.py\u001b[0m in \u001b[0;36merror_handler\u001b[0;34m(*args, **kwargs)\u001b[0m\n\u001b[1;32m     62\u001b[0m     \u001b[0mfiltered_tb\u001b[0m \u001b[0;34m=\u001b[0m \u001b[0;32mNone\u001b[0m\u001b[0;34m\u001b[0m\u001b[0;34m\u001b[0m\u001b[0m\n\u001b[1;32m     63\u001b[0m     \u001b[0;32mtry\u001b[0m\u001b[0;34m:\u001b[0m\u001b[0;34m\u001b[0m\u001b[0;34m\u001b[0m\u001b[0m\n\u001b[0;32m---> 64\u001b[0;31m       \u001b[0;32mreturn\u001b[0m \u001b[0mfn\u001b[0m\u001b[0;34m(\u001b[0m\u001b[0;34m*\u001b[0m\u001b[0margs\u001b[0m\u001b[0;34m,\u001b[0m \u001b[0;34m**\u001b[0m\u001b[0mkwargs\u001b[0m\u001b[0;34m)\u001b[0m\u001b[0;34m\u001b[0m\u001b[0;34m\u001b[0m\u001b[0m\n\u001b[0m\u001b[1;32m     65\u001b[0m     \u001b[0;32mexcept\u001b[0m \u001b[0mException\u001b[0m \u001b[0;32mas\u001b[0m \u001b[0me\u001b[0m\u001b[0;34m:\u001b[0m  \u001b[0;31m# pylint: disable=broad-except\u001b[0m\u001b[0;34m\u001b[0m\u001b[0;34m\u001b[0m\u001b[0m\n\u001b[1;32m     66\u001b[0m       \u001b[0mfiltered_tb\u001b[0m \u001b[0;34m=\u001b[0m \u001b[0m_process_traceback_frames\u001b[0m\u001b[0;34m(\u001b[0m\u001b[0me\u001b[0m\u001b[0;34m.\u001b[0m\u001b[0m__traceback__\u001b[0m\u001b[0;34m)\u001b[0m\u001b[0;34m\u001b[0m\u001b[0;34m\u001b[0m\u001b[0m\n",
            "\u001b[0;32m/usr/local/lib/python3.7/dist-packages/keras/engine/training.py\u001b[0m in \u001b[0;36mfit\u001b[0;34m(self, x, y, batch_size, epochs, verbose, callbacks, validation_split, validation_data, shuffle, class_weight, sample_weight, initial_epoch, steps_per_epoch, validation_steps, validation_batch_size, validation_freq, max_queue_size, workers, use_multiprocessing)\u001b[0m\n\u001b[1;32m   1214\u001b[0m                 _r=1):\n\u001b[1;32m   1215\u001b[0m               \u001b[0mcallbacks\u001b[0m\u001b[0;34m.\u001b[0m\u001b[0mon_train_batch_begin\u001b[0m\u001b[0;34m(\u001b[0m\u001b[0mstep\u001b[0m\u001b[0;34m)\u001b[0m\u001b[0;34m\u001b[0m\u001b[0;34m\u001b[0m\u001b[0m\n\u001b[0;32m-> 1216\u001b[0;31m               \u001b[0mtmp_logs\u001b[0m \u001b[0;34m=\u001b[0m \u001b[0mself\u001b[0m\u001b[0;34m.\u001b[0m\u001b[0mtrain_function\u001b[0m\u001b[0;34m(\u001b[0m\u001b[0miterator\u001b[0m\u001b[0;34m)\u001b[0m\u001b[0;34m\u001b[0m\u001b[0;34m\u001b[0m\u001b[0m\n\u001b[0m\u001b[1;32m   1217\u001b[0m               \u001b[0;32mif\u001b[0m \u001b[0mdata_handler\u001b[0m\u001b[0;34m.\u001b[0m\u001b[0mshould_sync\u001b[0m\u001b[0;34m:\u001b[0m\u001b[0;34m\u001b[0m\u001b[0;34m\u001b[0m\u001b[0m\n\u001b[1;32m   1218\u001b[0m                 \u001b[0mcontext\u001b[0m\u001b[0;34m.\u001b[0m\u001b[0masync_wait\u001b[0m\u001b[0;34m(\u001b[0m\u001b[0;34m)\u001b[0m\u001b[0;34m\u001b[0m\u001b[0;34m\u001b[0m\u001b[0m\n",
            "\u001b[0;32m/usr/local/lib/python3.7/dist-packages/tensorflow/python/util/traceback_utils.py\u001b[0m in \u001b[0;36merror_handler\u001b[0;34m(*args, **kwargs)\u001b[0m\n\u001b[1;32m    148\u001b[0m     \u001b[0mfiltered_tb\u001b[0m \u001b[0;34m=\u001b[0m \u001b[0;32mNone\u001b[0m\u001b[0;34m\u001b[0m\u001b[0;34m\u001b[0m\u001b[0m\n\u001b[1;32m    149\u001b[0m     \u001b[0;32mtry\u001b[0m\u001b[0;34m:\u001b[0m\u001b[0;34m\u001b[0m\u001b[0;34m\u001b[0m\u001b[0m\n\u001b[0;32m--> 150\u001b[0;31m       \u001b[0;32mreturn\u001b[0m \u001b[0mfn\u001b[0m\u001b[0;34m(\u001b[0m\u001b[0;34m*\u001b[0m\u001b[0margs\u001b[0m\u001b[0;34m,\u001b[0m \u001b[0;34m**\u001b[0m\u001b[0mkwargs\u001b[0m\u001b[0;34m)\u001b[0m\u001b[0;34m\u001b[0m\u001b[0;34m\u001b[0m\u001b[0m\n\u001b[0m\u001b[1;32m    151\u001b[0m     \u001b[0;32mexcept\u001b[0m \u001b[0mException\u001b[0m \u001b[0;32mas\u001b[0m \u001b[0me\u001b[0m\u001b[0;34m:\u001b[0m\u001b[0;34m\u001b[0m\u001b[0;34m\u001b[0m\u001b[0m\n\u001b[1;32m    152\u001b[0m       \u001b[0mfiltered_tb\u001b[0m \u001b[0;34m=\u001b[0m \u001b[0m_process_traceback_frames\u001b[0m\u001b[0;34m(\u001b[0m\u001b[0me\u001b[0m\u001b[0;34m.\u001b[0m\u001b[0m__traceback__\u001b[0m\u001b[0;34m)\u001b[0m\u001b[0;34m\u001b[0m\u001b[0;34m\u001b[0m\u001b[0m\n",
            "\u001b[0;32m/usr/local/lib/python3.7/dist-packages/tensorflow/python/eager/def_function.py\u001b[0m in \u001b[0;36m__call__\u001b[0;34m(self, *args, **kwds)\u001b[0m\n\u001b[1;32m    908\u001b[0m \u001b[0;34m\u001b[0m\u001b[0m\n\u001b[1;32m    909\u001b[0m       \u001b[0;32mwith\u001b[0m \u001b[0mOptionalXlaContext\u001b[0m\u001b[0;34m(\u001b[0m\u001b[0mself\u001b[0m\u001b[0;34m.\u001b[0m\u001b[0m_jit_compile\u001b[0m\u001b[0;34m)\u001b[0m\u001b[0;34m:\u001b[0m\u001b[0;34m\u001b[0m\u001b[0;34m\u001b[0m\u001b[0m\n\u001b[0;32m--> 910\u001b[0;31m         \u001b[0mresult\u001b[0m \u001b[0;34m=\u001b[0m \u001b[0mself\u001b[0m\u001b[0;34m.\u001b[0m\u001b[0m_call\u001b[0m\u001b[0;34m(\u001b[0m\u001b[0;34m*\u001b[0m\u001b[0margs\u001b[0m\u001b[0;34m,\u001b[0m \u001b[0;34m**\u001b[0m\u001b[0mkwds\u001b[0m\u001b[0;34m)\u001b[0m\u001b[0;34m\u001b[0m\u001b[0;34m\u001b[0m\u001b[0m\n\u001b[0m\u001b[1;32m    911\u001b[0m \u001b[0;34m\u001b[0m\u001b[0m\n\u001b[1;32m    912\u001b[0m       \u001b[0mnew_tracing_count\u001b[0m \u001b[0;34m=\u001b[0m \u001b[0mself\u001b[0m\u001b[0;34m.\u001b[0m\u001b[0mexperimental_get_tracing_count\u001b[0m\u001b[0;34m(\u001b[0m\u001b[0;34m)\u001b[0m\u001b[0;34m\u001b[0m\u001b[0;34m\u001b[0m\u001b[0m\n",
            "\u001b[0;32m/usr/local/lib/python3.7/dist-packages/tensorflow/python/eager/def_function.py\u001b[0m in \u001b[0;36m_call\u001b[0;34m(self, *args, **kwds)\u001b[0m\n\u001b[1;32m    940\u001b[0m       \u001b[0;31m# In this case we have created variables on the first call, so we run the\u001b[0m\u001b[0;34m\u001b[0m\u001b[0;34m\u001b[0m\u001b[0;34m\u001b[0m\u001b[0m\n\u001b[1;32m    941\u001b[0m       \u001b[0;31m# defunned version which is guaranteed to never create variables.\u001b[0m\u001b[0;34m\u001b[0m\u001b[0;34m\u001b[0m\u001b[0;34m\u001b[0m\u001b[0m\n\u001b[0;32m--> 942\u001b[0;31m       \u001b[0;32mreturn\u001b[0m \u001b[0mself\u001b[0m\u001b[0;34m.\u001b[0m\u001b[0m_stateless_fn\u001b[0m\u001b[0;34m(\u001b[0m\u001b[0;34m*\u001b[0m\u001b[0margs\u001b[0m\u001b[0;34m,\u001b[0m \u001b[0;34m**\u001b[0m\u001b[0mkwds\u001b[0m\u001b[0;34m)\u001b[0m  \u001b[0;31m# pylint: disable=not-callable\u001b[0m\u001b[0;34m\u001b[0m\u001b[0;34m\u001b[0m\u001b[0m\n\u001b[0m\u001b[1;32m    943\u001b[0m     \u001b[0;32melif\u001b[0m \u001b[0mself\u001b[0m\u001b[0;34m.\u001b[0m\u001b[0m_stateful_fn\u001b[0m \u001b[0;32mis\u001b[0m \u001b[0;32mnot\u001b[0m \u001b[0;32mNone\u001b[0m\u001b[0;34m:\u001b[0m\u001b[0;34m\u001b[0m\u001b[0;34m\u001b[0m\u001b[0m\n\u001b[1;32m    944\u001b[0m       \u001b[0;31m# Release the lock early so that multiple threads can perform the call\u001b[0m\u001b[0;34m\u001b[0m\u001b[0;34m\u001b[0m\u001b[0;34m\u001b[0m\u001b[0m\n",
            "\u001b[0;32m/usr/local/lib/python3.7/dist-packages/tensorflow/python/eager/function.py\u001b[0m in \u001b[0;36m__call__\u001b[0;34m(self, *args, **kwargs)\u001b[0m\n\u001b[1;32m   3129\u001b[0m        filtered_flat_args) = self._maybe_define_function(args, kwargs)\n\u001b[1;32m   3130\u001b[0m     return graph_function._call_flat(\n\u001b[0;32m-> 3131\u001b[0;31m         filtered_flat_args, captured_inputs=graph_function.captured_inputs)  # pylint: disable=protected-access\n\u001b[0m\u001b[1;32m   3132\u001b[0m \u001b[0;34m\u001b[0m\u001b[0m\n\u001b[1;32m   3133\u001b[0m   \u001b[0;34m@\u001b[0m\u001b[0mproperty\u001b[0m\u001b[0;34m\u001b[0m\u001b[0;34m\u001b[0m\u001b[0m\n",
            "\u001b[0;32m/usr/local/lib/python3.7/dist-packages/tensorflow/python/eager/function.py\u001b[0m in \u001b[0;36m_call_flat\u001b[0;34m(self, args, captured_inputs, cancellation_manager)\u001b[0m\n\u001b[1;32m   1958\u001b[0m       \u001b[0;31m# No tape is watching; skip to running the function.\u001b[0m\u001b[0;34m\u001b[0m\u001b[0;34m\u001b[0m\u001b[0;34m\u001b[0m\u001b[0m\n\u001b[1;32m   1959\u001b[0m       return self._build_call_outputs(self._inference_function.call(\n\u001b[0;32m-> 1960\u001b[0;31m           ctx, args, cancellation_manager=cancellation_manager))\n\u001b[0m\u001b[1;32m   1961\u001b[0m     forward_backward = self._select_forward_and_backward_functions(\n\u001b[1;32m   1962\u001b[0m         \u001b[0margs\u001b[0m\u001b[0;34m,\u001b[0m\u001b[0;34m\u001b[0m\u001b[0;34m\u001b[0m\u001b[0m\n",
            "\u001b[0;32m/usr/local/lib/python3.7/dist-packages/tensorflow/python/eager/function.py\u001b[0m in \u001b[0;36mcall\u001b[0;34m(self, ctx, args, cancellation_manager)\u001b[0m\n\u001b[1;32m    601\u001b[0m               \u001b[0minputs\u001b[0m\u001b[0;34m=\u001b[0m\u001b[0margs\u001b[0m\u001b[0;34m,\u001b[0m\u001b[0;34m\u001b[0m\u001b[0;34m\u001b[0m\u001b[0m\n\u001b[1;32m    602\u001b[0m               \u001b[0mattrs\u001b[0m\u001b[0;34m=\u001b[0m\u001b[0mattrs\u001b[0m\u001b[0;34m,\u001b[0m\u001b[0;34m\u001b[0m\u001b[0;34m\u001b[0m\u001b[0m\n\u001b[0;32m--> 603\u001b[0;31m               ctx=ctx)\n\u001b[0m\u001b[1;32m    604\u001b[0m         \u001b[0;32melse\u001b[0m\u001b[0;34m:\u001b[0m\u001b[0;34m\u001b[0m\u001b[0;34m\u001b[0m\u001b[0m\n\u001b[1;32m    605\u001b[0m           outputs = execute.execute_with_cancellation(\n",
            "\u001b[0;32m/usr/local/lib/python3.7/dist-packages/tensorflow/python/eager/execute.py\u001b[0m in \u001b[0;36mquick_execute\u001b[0;34m(op_name, num_outputs, inputs, attrs, ctx, name)\u001b[0m\n\u001b[1;32m     57\u001b[0m     \u001b[0mctx\u001b[0m\u001b[0;34m.\u001b[0m\u001b[0mensure_initialized\u001b[0m\u001b[0;34m(\u001b[0m\u001b[0;34m)\u001b[0m\u001b[0;34m\u001b[0m\u001b[0;34m\u001b[0m\u001b[0m\n\u001b[1;32m     58\u001b[0m     tensors = pywrap_tfe.TFE_Py_Execute(ctx._handle, device_name, op_name,\n\u001b[0;32m---> 59\u001b[0;31m                                         inputs, attrs, num_outputs)\n\u001b[0m\u001b[1;32m     60\u001b[0m   \u001b[0;32mexcept\u001b[0m \u001b[0mcore\u001b[0m\u001b[0;34m.\u001b[0m\u001b[0m_NotOkStatusException\u001b[0m \u001b[0;32mas\u001b[0m \u001b[0me\u001b[0m\u001b[0;34m:\u001b[0m\u001b[0;34m\u001b[0m\u001b[0;34m\u001b[0m\u001b[0m\n\u001b[1;32m     61\u001b[0m     \u001b[0;32mif\u001b[0m \u001b[0mname\u001b[0m \u001b[0;32mis\u001b[0m \u001b[0;32mnot\u001b[0m \u001b[0;32mNone\u001b[0m\u001b[0;34m:\u001b[0m\u001b[0;34m\u001b[0m\u001b[0;34m\u001b[0m\u001b[0m\n",
            "\u001b[0;31mKeyboardInterrupt\u001b[0m: "
          ]
        }
      ]
    },
    {
      "cell_type": "code",
      "metadata": {
        "id": "7xs-qlVGxbpL"
      },
      "source": [
        "#@title **Gráficar Accuracy y loss:**\n",
        "\n",
        "### Gráfica de Accuracy\n",
        "plt.figure(figsize=(15,4))\n",
        "plt.subplot(1,2,1)\n",
        "plt.plot(history3.history['accuracy'])\n",
        "plt.plot(history3.history['val_accuracy'])\n",
        "plt.title('model accuracy')\n",
        "plt.ylabel('accuracy')\n",
        "plt.xlabel('epoch')\n",
        "plt.legend(['train', 'test'], loc='upper left')\n",
        "\n",
        "### Gráfica loss\n",
        "plt.subplot(1,2,2)\n",
        "plt.plot(history3.history['loss'])\n",
        "plt.plot(history3.history['val_loss'])\n",
        "plt.title('model loss')\n",
        "plt.ylabel('loss')\n",
        "plt.xlabel('epoch')\n",
        "plt.legend(['train', 'test'], loc='upper left')\n",
        "plt.show()"
      ],
      "execution_count": null,
      "outputs": []
    },
    {
      "cell_type": "code",
      "metadata": {
        "id": "HCvmCS5axeVs"
      },
      "source": [
        "#@title **Algortimo de GradCAM para visualización:**\n",
        "#Author: fchollet\n",
        "#Libro: Deep Learning with Python (2017)\n",
        "#Description: How to obtain a class activation heatmap for an image classification model.\n",
        "\n",
        "def get_img_array(img_path, size):\n",
        "    # `img` is a PIL image of size 299x299\n",
        "    img = keras.preprocessing.image.load_img(img_path, target_size=size)\n",
        "    # `array` is a float32 Numpy array of shape (299, 299, 3)\n",
        "    array = keras.preprocessing.image.img_to_array(img)\n",
        "    # We add a dimension to transform our array into a \"batch\"\n",
        "    # of size (1, 299, 299, 3)\n",
        "    array = np.expand_dims(array, axis=0)\n",
        "    return array\n",
        "\n",
        "\n",
        "def make_gradcam_heatmap(img_array, model, last_conv_layer_name, pred_index=None):\n",
        "    # First, we create a model that maps the input image to the activations\n",
        "    # of the last conv layer as well as the output predictions\n",
        "    grad_model = keras.models.Model(\n",
        "        [model.inputs], [model.get_layer(last_conv_layer_name).output, model.output]\n",
        "    )\n",
        "\n",
        "    # Then, we compute the gradient of the top predicted class for our input image\n",
        "    # with respect to the activations of the last conv layer\n",
        "    with tf.GradientTape() as tape:\n",
        "        last_conv_layer_output, preds = grad_model(img_array)\n",
        "        if pred_index is None:\n",
        "            pred_index = tf.argmax(preds[0])\n",
        "        class_channel = preds[:, pred_index]\n",
        "\n",
        "    # This is the gradient of the output neuron (top predicted or chosen)\n",
        "    # with regard to the output feature map of the last conv layer\n",
        "    grads = tape.gradient(class_channel, last_conv_layer_output)\n",
        "\n",
        "    # This is a vector where each entry is the mean intensity of the gradient\n",
        "    # over a specific feature map channel\n",
        "    pooled_grads = tf.reduce_mean(grads, axis=(0, 1, 2))\n",
        "\n",
        "    # We multiply each channel in the feature map array\n",
        "    # by \"how important this channel is\" with regard to the top predicted class\n",
        "    # then sum all the channels to obtain the heatmap class activation\n",
        "    last_conv_layer_output = last_conv_layer_output[0]\n",
        "    heatmap = last_conv_layer_output @ pooled_grads[..., tf.newaxis]\n",
        "    heatmap = tf.squeeze(heatmap)\n",
        "\n",
        "    # For visualization purpose, we will also normalize the heatmap between 0 & 1\n",
        "    heatmap = tf.maximum(heatmap, 0) / tf.math.reduce_max(heatmap)\n",
        "    return heatmap.numpy()"
      ],
      "execution_count": null,
      "outputs": []
    },
    {
      "cell_type": "code",
      "metadata": {
        "id": "b5PmJFZTyajy"
      },
      "source": [
        "#@title **Cargar modelo:**\n",
        "\n",
        "model_cbam = keras.models.load_model('modelcbam.h5')\n",
        "#model_cbam.load_weights('modelcbamwght.h5')\n",
        "\n",
        "# Con ADAM Modificado\n",
        "\n",
        "#model_cbam = keras.models.load_model('modelcbamAdam.h5')\n",
        "#model_cbam.load_weights('modelcbamwghtAdam.h5')"
      ],
      "execution_count": null,
      "outputs": []
    },
    {
      "cell_type": "code",
      "metadata": {
        "id": "v_JKWd3r5wlD"
      },
      "source": [
        "#@title **Etiquetas CIFAR10:**\n",
        "\n",
        "etiquetas = np.array([\n",
        "    'airplane',\n",
        "    'automobile',\n",
        "    'bird',\n",
        "    'cat',\n",
        "    'deer',\n",
        "    'dog',\n",
        "    'frog',\n",
        "    'horse',\n",
        "    'ship',\n",
        "    'truck'])\n",
        "\n",
        "img_array = preprocess_input(get_img_array('caballo1.jpg', size=(32,32)))\n",
        "img_array = img_array.astype('float32')/255.0\n",
        "mean = np.mean(img_array, axis=(0,1,2,3))\n",
        "std = np.std(img_array, axis=(0,1,2,3))\n",
        "img_array = (img_array - mean)/(std+1e-7)\n",
        "preds1 = model_cbam.predict(img_array)\n",
        "#preds2 = model_cbamAdam.predict(img_array)\n",
        "\n",
        "print(str(etiquetas[(np.argmax(preds1,axis=1))[0]]))\n",
        "#print(str(etiquetas[(np.argmax(preds2,axis=1))[0]]))\n",
        "\n",
        "heatmap1 = make_gradcam_heatmap(img_array, model_cbam, 'activation_48')\n",
        "#heatmap2 = make_gradcam_heatmap(img_array, model_cbamAdam, 'activation_97')\n",
        "\n",
        "plt.matshow(heatmap1)\n",
        "plt.show\n",
        "#print()\n",
        "#plt.matshow(heatmap2)\n",
        "#plt.show"
      ],
      "execution_count": null,
      "outputs": []
    },
    {
      "cell_type": "code",
      "metadata": {
        "id": "WblpwbUOBPid"
      },
      "source": [
        "#@title **Porcentajes de valores:**\n",
        "\n",
        "def save_and_display_gradcam(img_path, heatmap, cam_path, alpha=0.4):\n",
        "\n",
        "    # Load the original image\n",
        "    img = keras.preprocessing.image.load_img(img_path)\n",
        "    img = keras.preprocessing.image.img_to_array(img)\n",
        "\n",
        "    # Rescale heatmap to a range 0-255\n",
        "    heatmap = np.uint8(255 * heatmap)\n",
        "\n",
        "    # Use jet colormap to colorize heatmap\n",
        "    jet = cm.get_cmap(\"jet\")\n",
        "\n",
        "    # Use RGB values of the colormap\n",
        "    jet_colors = jet(np.arange(256))[:, :3]\n",
        "    jet_heatmap = jet_colors[heatmap]\n",
        "\n",
        "    # Create an image with RGB colorized heatmap\n",
        "    jet_heatmap = keras.preprocessing.image.array_to_img(jet_heatmap)\n",
        "    jet_heatmap = jet_heatmap.resize((img.shape[1], img.shape[0]))\n",
        "    jet_heatmap = keras.preprocessing.image.img_to_array(jet_heatmap)\n",
        "\n",
        "    # Superimpose the heatmap on original image\n",
        "    superimposed_img = jet_heatmap * alpha + img\n",
        "    superimposed_img = keras.preprocessing.image.array_to_img(superimposed_img)\n",
        "\n",
        "    # Save the superimposed image\n",
        "    superimposed_img.save(cam_path)\n",
        "\n",
        "    # Display Grad CAM\n",
        "    display(Image(cam_path))"
      ],
      "execution_count": null,
      "outputs": []
    },
    {
      "cell_type": "code",
      "metadata": {
        "id": "bG5ZD91oBbnw"
      },
      "source": [
        "#@title **Resultado valores Gradcam:**\n",
        "\n",
        "save_and_display_gradcam('caballo1.jpg', heatmap1, 'caballo1_CBAM.jpg')\n",
        "#print()\n",
        "#save_and_display_gradcam('caballo1.jpg', heatmap2, 'caballo1_CBAMAdam.jpg')"
      ],
      "execution_count": null,
      "outputs": []
    }
  ]
}